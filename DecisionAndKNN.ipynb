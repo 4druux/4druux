{
  "nbformat": 4,
  "nbformat_minor": 0,
  "metadata": {
    "colab": {
      "provenance": [],
      "authorship_tag": "ABX9TyNr0jEqMeTf6+n5DyI2wwST",
      "include_colab_link": true
    },
    "kernelspec": {
      "name": "python3",
      "display_name": "Python 3"
    },
    "language_info": {
      "name": "python"
    }
  },
  "cells": [
    {
      "cell_type": "markdown",
      "metadata": {
        "id": "view-in-github",
        "colab_type": "text"
      },
      "source": [
        "<a href=\"https://colab.research.google.com/github/4druux/4druux/blob/main/DecisionAndKNN.ipynb\" target=\"_parent\"><img src=\"https://colab.research.google.com/assets/colab-badge.svg\" alt=\"Open In Colab\"/></a>"
      ]
    },
    {
      "cell_type": "code",
      "execution_count": null,
      "metadata": {
        "id": "Uv5ExV5fjAKe"
      },
      "outputs": [],
      "source": [
        "import pandas as pd\n",
        "import io"
      ]
    },
    {
      "cell_type": "code",
      "source": [
        "### Dataset ###\n",
        "dataset = \"\"\"ID,Umur,Pendapatan (juta),Jumlah Pembelian,Target Loyalitas DT,Target Loyalitas KNN\n",
        "1,25,50,10,Loyal,Loyal\n",
        "2,40,80,5,Tidak Loyal,Loyal\n",
        "3,30,60,8,Loyal,Tidak Loyal\n",
        "4,50,90,4,Tidak Loyal,Tidak Loyal\n",
        "\"\"\""
      ],
      "metadata": {
        "id": "rYxiNm0Gj7XQ"
      },
      "execution_count": 293,
      "outputs": []
    },
    {
      "cell_type": "code",
      "source": [
        "df = pd.read_csv(io.StringIO(dataset))\n",
        "print(\"Dataset e-commerce:\")\n",
        "print(df)"
      ],
      "metadata": {
        "colab": {
          "base_uri": "https://localhost:8080/"
        },
        "id": "WIG3MXrvmpnW",
        "outputId": "011fc133-4b3a-4e6c-94b1-5df84e8ef4d6"
      },
      "execution_count": 294,
      "outputs": [
        {
          "output_type": "stream",
          "name": "stdout",
          "text": [
            "Dataset e-commerce:\n",
            "   ID  Umur  Pendapatan (juta)  Jumlah Pembelian Target Loyalitas DT  \\\n",
            "0   1    25                 50                10               Loyal   \n",
            "1   2    40                 80                 5         Tidak Loyal   \n",
            "2   3    30                 60                 8               Loyal   \n",
            "3   4    50                 90                 4         Tidak Loyal   \n",
            "\n",
            "  Target Loyalitas KNN  \n",
            "0                Loyal  \n",
            "1                Loyal  \n",
            "2          Tidak Loyal  \n",
            "3          Tidak Loyal  \n"
          ]
        }
      ]
    },
    {
      "cell_type": "code",
      "source": [
        "### Decision Tree ###\n",
        "x = df[['Umur', 'Pendapatan (juta)', 'Jumlah Pembelian']]\n",
        "y_dt = df['Target Loyalitas DT']\n",
        "\n",
        "print(\"Fitur (x):\")\n",
        "print(x)\n",
        "print(\"\\nTarget Decision Tree (y_dt):\")\n",
        "print(y_dt)"
      ],
      "metadata": {
        "id": "zhVT3a1MsOoi",
        "colab": {
          "base_uri": "https://localhost:8080/"
        },
        "outputId": "982e7734-5389-4d5a-e11a-2b56f7ff7275"
      },
      "execution_count": 295,
      "outputs": [
        {
          "output_type": "stream",
          "name": "stdout",
          "text": [
            "Fitur (x):\n",
            "   Umur  Pendapatan (juta)  Jumlah Pembelian\n",
            "0    25                 50                10\n",
            "1    40                 80                 5\n",
            "2    30                 60                 8\n",
            "3    50                 90                 4\n",
            "\n",
            "Target Decision Tree (y_dt):\n",
            "0          Loyal\n",
            "1    Tidak Loyal\n",
            "2          Loyal\n",
            "3    Tidak Loyal\n",
            "Name: Target Loyalitas DT, dtype: object\n"
          ]
        }
      ]
    },
    {
      "cell_type": "code",
      "source": [
        "### KNN ###\n",
        "x = df[['Umur', 'Pendapatan (juta)', 'Jumlah Pembelian']]\n",
        "y_knn = df['Target Loyalitas KNN']\n",
        "\n",
        "print(\"Fitur (x):\")\n",
        "print(x)\n",
        "print(\"\\nTarget KNN (y_knn):\")\n",
        "print(y_knn)"
      ],
      "metadata": {
        "colab": {
          "base_uri": "https://localhost:8080/"
        },
        "id": "X9Dbts_HM_1E",
        "outputId": "836b5742-af05-4ebb-df1b-dfe689a15803"
      },
      "execution_count": 296,
      "outputs": [
        {
          "output_type": "stream",
          "name": "stdout",
          "text": [
            "Fitur (x):\n",
            "   Umur  Pendapatan (juta)  Jumlah Pembelian\n",
            "0    25                 50                10\n",
            "1    40                 80                 5\n",
            "2    30                 60                 8\n",
            "3    50                 90                 4\n",
            "\n",
            "Target KNN (y_knn):\n",
            "0          Loyal\n",
            "1          Loyal\n",
            "2    Tidak Loyal\n",
            "3    Tidak Loyal\n",
            "Name: Target Loyalitas KNN, dtype: object\n"
          ]
        }
      ]
    },
    {
      "cell_type": "markdown",
      "source": [
        "y = df['Target Loyalitas']\n",
        "print(\"Target (y):\")\n",
        "print(y)\n"
      ],
      "metadata": {
        "id": "t0MdbtBbvVec"
      }
    },
    {
      "cell_type": "code",
      "source": [
        "#### Algorithma Decision Tree ####"
      ],
      "metadata": {
        "id": "Y1IXRLjP9Hqu"
      },
      "execution_count": 297,
      "outputs": []
    },
    {
      "cell_type": "code",
      "source": [
        "from sklearn.model_selection import train_test_split\n",
        "x_train, x_test, y_train, y_test = train_test_split(x, y_dt, test_size=0.2, random_state=42)\n",
        "\n",
        "print(\"Data Training (x_train):\")\n",
        "print(x_train)\n",
        "print(\"\\nTarget Training (y_train):\")\n",
        "print(y_train)\n",
        "print(\"\\nData Testing (x_test):\")\n",
        "print(x_test)\n",
        "print(\"\\nTarget Testing (y_test):\")\n",
        "print(y_test)"
      ],
      "metadata": {
        "colab": {
          "base_uri": "https://localhost:8080/"
        },
        "id": "MB6CHctswNdK",
        "outputId": "24dd492c-cb24-41d3-b36d-d24f04a6e0eb"
      },
      "execution_count": 298,
      "outputs": [
        {
          "output_type": "stream",
          "name": "stdout",
          "text": [
            "Data Training (x_train):\n",
            "   Umur  Pendapatan (juta)  Jumlah Pembelian\n",
            "3    50                 90                 4\n",
            "0    25                 50                10\n",
            "2    30                 60                 8\n",
            "\n",
            "Target Training (y_train):\n",
            "3    Tidak Loyal\n",
            "0          Loyal\n",
            "2          Loyal\n",
            "Name: Target Loyalitas DT, dtype: object\n",
            "\n",
            "Data Testing (x_test):\n",
            "   Umur  Pendapatan (juta)  Jumlah Pembelian\n",
            "1    40                 80                 5\n",
            "\n",
            "Target Testing (y_test):\n",
            "1    Tidak Loyal\n",
            "Name: Target Loyalitas DT, dtype: object\n"
          ]
        }
      ]
    },
    {
      "cell_type": "code",
      "source": [
        "from sklearn import tree\n",
        "from sklearn.tree import DecisionTreeClassifier"
      ],
      "metadata": {
        "id": "7eZT7b_4wM_y"
      },
      "execution_count": 299,
      "outputs": []
    },
    {
      "cell_type": "code",
      "source": [
        "e_commerce_dt = DecisionTreeClassifier(criterion='entropy', random_state=42)\n",
        "e_commerce_dt.fit(x_train, y_train)"
      ],
      "metadata": {
        "colab": {
          "base_uri": "https://localhost:8080/",
          "height": 80
        },
        "id": "tv2rCEHvx9Vt",
        "outputId": "a6525602-8521-4259-a655-16e659710f51"
      },
      "execution_count": 300,
      "outputs": [
        {
          "output_type": "execute_result",
          "data": {
            "text/plain": [
              "DecisionTreeClassifier(criterion='entropy', random_state=42)"
            ],
            "text/html": [
              "<style>#sk-container-id-19 {\n",
              "  /* Definition of color scheme common for light and dark mode */\n",
              "  --sklearn-color-text: #000;\n",
              "  --sklearn-color-text-muted: #666;\n",
              "  --sklearn-color-line: gray;\n",
              "  /* Definition of color scheme for unfitted estimators */\n",
              "  --sklearn-color-unfitted-level-0: #fff5e6;\n",
              "  --sklearn-color-unfitted-level-1: #f6e4d2;\n",
              "  --sklearn-color-unfitted-level-2: #ffe0b3;\n",
              "  --sklearn-color-unfitted-level-3: chocolate;\n",
              "  /* Definition of color scheme for fitted estimators */\n",
              "  --sklearn-color-fitted-level-0: #f0f8ff;\n",
              "  --sklearn-color-fitted-level-1: #d4ebff;\n",
              "  --sklearn-color-fitted-level-2: #b3dbfd;\n",
              "  --sklearn-color-fitted-level-3: cornflowerblue;\n",
              "\n",
              "  /* Specific color for light theme */\n",
              "  --sklearn-color-text-on-default-background: var(--sg-text-color, var(--theme-code-foreground, var(--jp-content-font-color1, black)));\n",
              "  --sklearn-color-background: var(--sg-background-color, var(--theme-background, var(--jp-layout-color0, white)));\n",
              "  --sklearn-color-border-box: var(--sg-text-color, var(--theme-code-foreground, var(--jp-content-font-color1, black)));\n",
              "  --sklearn-color-icon: #696969;\n",
              "\n",
              "  @media (prefers-color-scheme: dark) {\n",
              "    /* Redefinition of color scheme for dark theme */\n",
              "    --sklearn-color-text-on-default-background: var(--sg-text-color, var(--theme-code-foreground, var(--jp-content-font-color1, white)));\n",
              "    --sklearn-color-background: var(--sg-background-color, var(--theme-background, var(--jp-layout-color0, #111)));\n",
              "    --sklearn-color-border-box: var(--sg-text-color, var(--theme-code-foreground, var(--jp-content-font-color1, white)));\n",
              "    --sklearn-color-icon: #878787;\n",
              "  }\n",
              "}\n",
              "\n",
              "#sk-container-id-19 {\n",
              "  color: var(--sklearn-color-text);\n",
              "}\n",
              "\n",
              "#sk-container-id-19 pre {\n",
              "  padding: 0;\n",
              "}\n",
              "\n",
              "#sk-container-id-19 input.sk-hidden--visually {\n",
              "  border: 0;\n",
              "  clip: rect(1px 1px 1px 1px);\n",
              "  clip: rect(1px, 1px, 1px, 1px);\n",
              "  height: 1px;\n",
              "  margin: -1px;\n",
              "  overflow: hidden;\n",
              "  padding: 0;\n",
              "  position: absolute;\n",
              "  width: 1px;\n",
              "}\n",
              "\n",
              "#sk-container-id-19 div.sk-dashed-wrapped {\n",
              "  border: 1px dashed var(--sklearn-color-line);\n",
              "  margin: 0 0.4em 0.5em 0.4em;\n",
              "  box-sizing: border-box;\n",
              "  padding-bottom: 0.4em;\n",
              "  background-color: var(--sklearn-color-background);\n",
              "}\n",
              "\n",
              "#sk-container-id-19 div.sk-container {\n",
              "  /* jupyter's `normalize.less` sets `[hidden] { display: none; }`\n",
              "     but bootstrap.min.css set `[hidden] { display: none !important; }`\n",
              "     so we also need the `!important` here to be able to override the\n",
              "     default hidden behavior on the sphinx rendered scikit-learn.org.\n",
              "     See: https://github.com/scikit-learn/scikit-learn/issues/21755 */\n",
              "  display: inline-block !important;\n",
              "  position: relative;\n",
              "}\n",
              "\n",
              "#sk-container-id-19 div.sk-text-repr-fallback {\n",
              "  display: none;\n",
              "}\n",
              "\n",
              "div.sk-parallel-item,\n",
              "div.sk-serial,\n",
              "div.sk-item {\n",
              "  /* draw centered vertical line to link estimators */\n",
              "  background-image: linear-gradient(var(--sklearn-color-text-on-default-background), var(--sklearn-color-text-on-default-background));\n",
              "  background-size: 2px 100%;\n",
              "  background-repeat: no-repeat;\n",
              "  background-position: center center;\n",
              "}\n",
              "\n",
              "/* Parallel-specific style estimator block */\n",
              "\n",
              "#sk-container-id-19 div.sk-parallel-item::after {\n",
              "  content: \"\";\n",
              "  width: 100%;\n",
              "  border-bottom: 2px solid var(--sklearn-color-text-on-default-background);\n",
              "  flex-grow: 1;\n",
              "}\n",
              "\n",
              "#sk-container-id-19 div.sk-parallel {\n",
              "  display: flex;\n",
              "  align-items: stretch;\n",
              "  justify-content: center;\n",
              "  background-color: var(--sklearn-color-background);\n",
              "  position: relative;\n",
              "}\n",
              "\n",
              "#sk-container-id-19 div.sk-parallel-item {\n",
              "  display: flex;\n",
              "  flex-direction: column;\n",
              "}\n",
              "\n",
              "#sk-container-id-19 div.sk-parallel-item:first-child::after {\n",
              "  align-self: flex-end;\n",
              "  width: 50%;\n",
              "}\n",
              "\n",
              "#sk-container-id-19 div.sk-parallel-item:last-child::after {\n",
              "  align-self: flex-start;\n",
              "  width: 50%;\n",
              "}\n",
              "\n",
              "#sk-container-id-19 div.sk-parallel-item:only-child::after {\n",
              "  width: 0;\n",
              "}\n",
              "\n",
              "/* Serial-specific style estimator block */\n",
              "\n",
              "#sk-container-id-19 div.sk-serial {\n",
              "  display: flex;\n",
              "  flex-direction: column;\n",
              "  align-items: center;\n",
              "  background-color: var(--sklearn-color-background);\n",
              "  padding-right: 1em;\n",
              "  padding-left: 1em;\n",
              "}\n",
              "\n",
              "\n",
              "/* Toggleable style: style used for estimator/Pipeline/ColumnTransformer box that is\n",
              "clickable and can be expanded/collapsed.\n",
              "- Pipeline and ColumnTransformer use this feature and define the default style\n",
              "- Estimators will overwrite some part of the style using the `sk-estimator` class\n",
              "*/\n",
              "\n",
              "/* Pipeline and ColumnTransformer style (default) */\n",
              "\n",
              "#sk-container-id-19 div.sk-toggleable {\n",
              "  /* Default theme specific background. It is overwritten whether we have a\n",
              "  specific estimator or a Pipeline/ColumnTransformer */\n",
              "  background-color: var(--sklearn-color-background);\n",
              "}\n",
              "\n",
              "/* Toggleable label */\n",
              "#sk-container-id-19 label.sk-toggleable__label {\n",
              "  cursor: pointer;\n",
              "  display: flex;\n",
              "  width: 100%;\n",
              "  margin-bottom: 0;\n",
              "  padding: 0.5em;\n",
              "  box-sizing: border-box;\n",
              "  text-align: center;\n",
              "  align-items: start;\n",
              "  justify-content: space-between;\n",
              "  gap: 0.5em;\n",
              "}\n",
              "\n",
              "#sk-container-id-19 label.sk-toggleable__label .caption {\n",
              "  font-size: 0.6rem;\n",
              "  font-weight: lighter;\n",
              "  color: var(--sklearn-color-text-muted);\n",
              "}\n",
              "\n",
              "#sk-container-id-19 label.sk-toggleable__label-arrow:before {\n",
              "  /* Arrow on the left of the label */\n",
              "  content: \"▸\";\n",
              "  float: left;\n",
              "  margin-right: 0.25em;\n",
              "  color: var(--sklearn-color-icon);\n",
              "}\n",
              "\n",
              "#sk-container-id-19 label.sk-toggleable__label-arrow:hover:before {\n",
              "  color: var(--sklearn-color-text);\n",
              "}\n",
              "\n",
              "/* Toggleable content - dropdown */\n",
              "\n",
              "#sk-container-id-19 div.sk-toggleable__content {\n",
              "  max-height: 0;\n",
              "  max-width: 0;\n",
              "  overflow: hidden;\n",
              "  text-align: left;\n",
              "  /* unfitted */\n",
              "  background-color: var(--sklearn-color-unfitted-level-0);\n",
              "}\n",
              "\n",
              "#sk-container-id-19 div.sk-toggleable__content.fitted {\n",
              "  /* fitted */\n",
              "  background-color: var(--sklearn-color-fitted-level-0);\n",
              "}\n",
              "\n",
              "#sk-container-id-19 div.sk-toggleable__content pre {\n",
              "  margin: 0.2em;\n",
              "  border-radius: 0.25em;\n",
              "  color: var(--sklearn-color-text);\n",
              "  /* unfitted */\n",
              "  background-color: var(--sklearn-color-unfitted-level-0);\n",
              "}\n",
              "\n",
              "#sk-container-id-19 div.sk-toggleable__content.fitted pre {\n",
              "  /* unfitted */\n",
              "  background-color: var(--sklearn-color-fitted-level-0);\n",
              "}\n",
              "\n",
              "#sk-container-id-19 input.sk-toggleable__control:checked~div.sk-toggleable__content {\n",
              "  /* Expand drop-down */\n",
              "  max-height: 200px;\n",
              "  max-width: 100%;\n",
              "  overflow: auto;\n",
              "}\n",
              "\n",
              "#sk-container-id-19 input.sk-toggleable__control:checked~label.sk-toggleable__label-arrow:before {\n",
              "  content: \"▾\";\n",
              "}\n",
              "\n",
              "/* Pipeline/ColumnTransformer-specific style */\n",
              "\n",
              "#sk-container-id-19 div.sk-label input.sk-toggleable__control:checked~label.sk-toggleable__label {\n",
              "  color: var(--sklearn-color-text);\n",
              "  background-color: var(--sklearn-color-unfitted-level-2);\n",
              "}\n",
              "\n",
              "#sk-container-id-19 div.sk-label.fitted input.sk-toggleable__control:checked~label.sk-toggleable__label {\n",
              "  background-color: var(--sklearn-color-fitted-level-2);\n",
              "}\n",
              "\n",
              "/* Estimator-specific style */\n",
              "\n",
              "/* Colorize estimator box */\n",
              "#sk-container-id-19 div.sk-estimator input.sk-toggleable__control:checked~label.sk-toggleable__label {\n",
              "  /* unfitted */\n",
              "  background-color: var(--sklearn-color-unfitted-level-2);\n",
              "}\n",
              "\n",
              "#sk-container-id-19 div.sk-estimator.fitted input.sk-toggleable__control:checked~label.sk-toggleable__label {\n",
              "  /* fitted */\n",
              "  background-color: var(--sklearn-color-fitted-level-2);\n",
              "}\n",
              "\n",
              "#sk-container-id-19 div.sk-label label.sk-toggleable__label,\n",
              "#sk-container-id-19 div.sk-label label {\n",
              "  /* The background is the default theme color */\n",
              "  color: var(--sklearn-color-text-on-default-background);\n",
              "}\n",
              "\n",
              "/* On hover, darken the color of the background */\n",
              "#sk-container-id-19 div.sk-label:hover label.sk-toggleable__label {\n",
              "  color: var(--sklearn-color-text);\n",
              "  background-color: var(--sklearn-color-unfitted-level-2);\n",
              "}\n",
              "\n",
              "/* Label box, darken color on hover, fitted */\n",
              "#sk-container-id-19 div.sk-label.fitted:hover label.sk-toggleable__label.fitted {\n",
              "  color: var(--sklearn-color-text);\n",
              "  background-color: var(--sklearn-color-fitted-level-2);\n",
              "}\n",
              "\n",
              "/* Estimator label */\n",
              "\n",
              "#sk-container-id-19 div.sk-label label {\n",
              "  font-family: monospace;\n",
              "  font-weight: bold;\n",
              "  display: inline-block;\n",
              "  line-height: 1.2em;\n",
              "}\n",
              "\n",
              "#sk-container-id-19 div.sk-label-container {\n",
              "  text-align: center;\n",
              "}\n",
              "\n",
              "/* Estimator-specific */\n",
              "#sk-container-id-19 div.sk-estimator {\n",
              "  font-family: monospace;\n",
              "  border: 1px dotted var(--sklearn-color-border-box);\n",
              "  border-radius: 0.25em;\n",
              "  box-sizing: border-box;\n",
              "  margin-bottom: 0.5em;\n",
              "  /* unfitted */\n",
              "  background-color: var(--sklearn-color-unfitted-level-0);\n",
              "}\n",
              "\n",
              "#sk-container-id-19 div.sk-estimator.fitted {\n",
              "  /* fitted */\n",
              "  background-color: var(--sklearn-color-fitted-level-0);\n",
              "}\n",
              "\n",
              "/* on hover */\n",
              "#sk-container-id-19 div.sk-estimator:hover {\n",
              "  /* unfitted */\n",
              "  background-color: var(--sklearn-color-unfitted-level-2);\n",
              "}\n",
              "\n",
              "#sk-container-id-19 div.sk-estimator.fitted:hover {\n",
              "  /* fitted */\n",
              "  background-color: var(--sklearn-color-fitted-level-2);\n",
              "}\n",
              "\n",
              "/* Specification for estimator info (e.g. \"i\" and \"?\") */\n",
              "\n",
              "/* Common style for \"i\" and \"?\" */\n",
              "\n",
              ".sk-estimator-doc-link,\n",
              "a:link.sk-estimator-doc-link,\n",
              "a:visited.sk-estimator-doc-link {\n",
              "  float: right;\n",
              "  font-size: smaller;\n",
              "  line-height: 1em;\n",
              "  font-family: monospace;\n",
              "  background-color: var(--sklearn-color-background);\n",
              "  border-radius: 1em;\n",
              "  height: 1em;\n",
              "  width: 1em;\n",
              "  text-decoration: none !important;\n",
              "  margin-left: 0.5em;\n",
              "  text-align: center;\n",
              "  /* unfitted */\n",
              "  border: var(--sklearn-color-unfitted-level-1) 1pt solid;\n",
              "  color: var(--sklearn-color-unfitted-level-1);\n",
              "}\n",
              "\n",
              ".sk-estimator-doc-link.fitted,\n",
              "a:link.sk-estimator-doc-link.fitted,\n",
              "a:visited.sk-estimator-doc-link.fitted {\n",
              "  /* fitted */\n",
              "  border: var(--sklearn-color-fitted-level-1) 1pt solid;\n",
              "  color: var(--sklearn-color-fitted-level-1);\n",
              "}\n",
              "\n",
              "/* On hover */\n",
              "div.sk-estimator:hover .sk-estimator-doc-link:hover,\n",
              ".sk-estimator-doc-link:hover,\n",
              "div.sk-label-container:hover .sk-estimator-doc-link:hover,\n",
              ".sk-estimator-doc-link:hover {\n",
              "  /* unfitted */\n",
              "  background-color: var(--sklearn-color-unfitted-level-3);\n",
              "  color: var(--sklearn-color-background);\n",
              "  text-decoration: none;\n",
              "}\n",
              "\n",
              "div.sk-estimator.fitted:hover .sk-estimator-doc-link.fitted:hover,\n",
              ".sk-estimator-doc-link.fitted:hover,\n",
              "div.sk-label-container:hover .sk-estimator-doc-link.fitted:hover,\n",
              ".sk-estimator-doc-link.fitted:hover {\n",
              "  /* fitted */\n",
              "  background-color: var(--sklearn-color-fitted-level-3);\n",
              "  color: var(--sklearn-color-background);\n",
              "  text-decoration: none;\n",
              "}\n",
              "\n",
              "/* Span, style for the box shown on hovering the info icon */\n",
              ".sk-estimator-doc-link span {\n",
              "  display: none;\n",
              "  z-index: 9999;\n",
              "  position: relative;\n",
              "  font-weight: normal;\n",
              "  right: .2ex;\n",
              "  padding: .5ex;\n",
              "  margin: .5ex;\n",
              "  width: min-content;\n",
              "  min-width: 20ex;\n",
              "  max-width: 50ex;\n",
              "  color: var(--sklearn-color-text);\n",
              "  box-shadow: 2pt 2pt 4pt #999;\n",
              "  /* unfitted */\n",
              "  background: var(--sklearn-color-unfitted-level-0);\n",
              "  border: .5pt solid var(--sklearn-color-unfitted-level-3);\n",
              "}\n",
              "\n",
              ".sk-estimator-doc-link.fitted span {\n",
              "  /* fitted */\n",
              "  background: var(--sklearn-color-fitted-level-0);\n",
              "  border: var(--sklearn-color-fitted-level-3);\n",
              "}\n",
              "\n",
              ".sk-estimator-doc-link:hover span {\n",
              "  display: block;\n",
              "}\n",
              "\n",
              "/* \"?\"-specific style due to the `<a>` HTML tag */\n",
              "\n",
              "#sk-container-id-19 a.estimator_doc_link {\n",
              "  float: right;\n",
              "  font-size: 1rem;\n",
              "  line-height: 1em;\n",
              "  font-family: monospace;\n",
              "  background-color: var(--sklearn-color-background);\n",
              "  border-radius: 1rem;\n",
              "  height: 1rem;\n",
              "  width: 1rem;\n",
              "  text-decoration: none;\n",
              "  /* unfitted */\n",
              "  color: var(--sklearn-color-unfitted-level-1);\n",
              "  border: var(--sklearn-color-unfitted-level-1) 1pt solid;\n",
              "}\n",
              "\n",
              "#sk-container-id-19 a.estimator_doc_link.fitted {\n",
              "  /* fitted */\n",
              "  border: var(--sklearn-color-fitted-level-1) 1pt solid;\n",
              "  color: var(--sklearn-color-fitted-level-1);\n",
              "}\n",
              "\n",
              "/* On hover */\n",
              "#sk-container-id-19 a.estimator_doc_link:hover {\n",
              "  /* unfitted */\n",
              "  background-color: var(--sklearn-color-unfitted-level-3);\n",
              "  color: var(--sklearn-color-background);\n",
              "  text-decoration: none;\n",
              "}\n",
              "\n",
              "#sk-container-id-19 a.estimator_doc_link.fitted:hover {\n",
              "  /* fitted */\n",
              "  background-color: var(--sklearn-color-fitted-level-3);\n",
              "}\n",
              "</style><div id=\"sk-container-id-19\" class=\"sk-top-container\"><div class=\"sk-text-repr-fallback\"><pre>DecisionTreeClassifier(criterion=&#x27;entropy&#x27;, random_state=42)</pre><b>In a Jupyter environment, please rerun this cell to show the HTML representation or trust the notebook. <br />On GitHub, the HTML representation is unable to render, please try loading this page with nbviewer.org.</b></div><div class=\"sk-container\" hidden><div class=\"sk-item\"><div class=\"sk-estimator fitted sk-toggleable\"><input class=\"sk-toggleable__control sk-hidden--visually\" id=\"sk-estimator-id-19\" type=\"checkbox\" checked><label for=\"sk-estimator-id-19\" class=\"sk-toggleable__label fitted sk-toggleable__label-arrow\"><div><div>DecisionTreeClassifier</div></div><div><a class=\"sk-estimator-doc-link fitted\" rel=\"noreferrer\" target=\"_blank\" href=\"https://scikit-learn.org/1.6/modules/generated/sklearn.tree.DecisionTreeClassifier.html\">?<span>Documentation for DecisionTreeClassifier</span></a><span class=\"sk-estimator-doc-link fitted\">i<span>Fitted</span></span></div></label><div class=\"sk-toggleable__content fitted\"><pre>DecisionTreeClassifier(criterion=&#x27;entropy&#x27;, random_state=42)</pre></div> </div></div></div></div>"
            ]
          },
          "metadata": {},
          "execution_count": 300
        }
      ]
    },
    {
      "cell_type": "code",
      "source": [
        "print(\"Model Decision Tree berhasil dilatih menggunakan data training.\")\n",
        "print(\"Urutan kelas internal model:\", e_commerce_dt.classes_)"
      ],
      "metadata": {
        "colab": {
          "base_uri": "https://localhost:8080/"
        },
        "id": "CPTFMshncAVP",
        "outputId": "d15df059-b536-4605-e763-86f695bfc5c8"
      },
      "execution_count": 301,
      "outputs": [
        {
          "output_type": "stream",
          "name": "stdout",
          "text": [
            "Model Decision Tree berhasil dilatih menggunakan data training.\n",
            "Urutan kelas internal model: ['Loyal' 'Tidak Loyal']\n"
          ]
        }
      ]
    },
    {
      "cell_type": "code",
      "source": [
        "y_pred_dt = e_commerce_dt.predict(x_test)\n",
        "print(\"Hasil Prediksi Decision Tree pada data testing:\", y_pred_dt)\n",
        "print(\"Target Sebenarnya pada data testing:\", y_test.values)"
      ],
      "metadata": {
        "colab": {
          "base_uri": "https://localhost:8080/"
        },
        "id": "9qNkDOF_zUuy",
        "outputId": "10f53452-e80d-4d61-cbb3-f4cbcbd6bcc9"
      },
      "execution_count": 302,
      "outputs": [
        {
          "output_type": "stream",
          "name": "stdout",
          "text": [
            "Hasil Prediksi Decision Tree pada data testing: ['Tidak Loyal']\n",
            "Target Sebenarnya pada data testing: ['Tidak Loyal']\n"
          ]
        }
      ]
    },
    {
      "cell_type": "code",
      "source": [
        "from sklearn.metrics import accuracy_score\n",
        "accuracy_dt = accuracy_score(y_test, y_pred_dt)\n",
        "print(\"Akurasi DT:\", accuracy_dt)"
      ],
      "metadata": {
        "colab": {
          "base_uri": "https://localhost:8080/"
        },
        "id": "NrPQE7ZfzfIc",
        "outputId": "c13398c9-1b4d-4dd5-9d79-aba7acccdfd3"
      },
      "execution_count": 303,
      "outputs": [
        {
          "output_type": "stream",
          "name": "stdout",
          "text": [
            "Akurasi DT: 1.0\n"
          ]
        }
      ]
    },
    {
      "cell_type": "code",
      "source": [
        "import matplotlib.pyplot as plt\n",
        "from sklearn.metrics import confusion_matrix\n",
        "import seaborn as sns\n",
        "import numpy as np\n",
        "\n",
        "labels_dt = e_commerce_dt.classes_\n",
        "conf_matrix_dt = confusion_matrix(y_test, y_pred_dt, labels=labels_dt)\n",
        "\n",
        "print(\"\\nConfusion Matrix (Data Testing):\")\n",
        "print(conf_matrix_dt)"
      ],
      "metadata": {
        "colab": {
          "base_uri": "https://localhost:8080/"
        },
        "id": "vfPWa3QQzkm2",
        "outputId": "203dfd12-0adb-44b6-b3b1-87d34908a265"
      },
      "execution_count": 304,
      "outputs": [
        {
          "output_type": "stream",
          "name": "stdout",
          "text": [
            "\n",
            "Confusion Matrix (Data Testing):\n",
            "[[0 0]\n",
            " [0 1]]\n"
          ]
        }
      ]
    },
    {
      "cell_type": "code",
      "source": [
        "plt.figure(figsize=(5, 4))\n",
        "sns.heatmap(conf_matrix_dt, annot=True, fmt='d', cmap='Blues',\n",
        "            xticklabels=labels_dt, yticklabels=labels_dt)\n",
        "plt.xlabel('Prediksi Decision Tree')\n",
        "plt.ylabel('Aktual')\n",
        "plt.title('Confusion Matrix (Data Testing)')\n",
        "plt.show()"
      ],
      "metadata": {
        "colab": {
          "base_uri": "https://localhost:8080/",
          "height": 410
        },
        "id": "Ry0EZ548zxH0",
        "outputId": "577145fd-ab34-4d95-e4ce-9ea0e000d3a8"
      },
      "execution_count": 305,
      "outputs": [
        {
          "output_type": "display_data",
          "data": {
            "text/plain": [
              "<Figure size 500x400 with 2 Axes>"
            ],
            "image/png": "[encoded data removed]"
          },
          "metadata": {}
        }
      ]
    },
    {
      "cell_type": "code",
      "source": [
        "print(\"Visualisasi Pohon Keputusan (dilatih pada data training):\")\n",
        "fig = plt.figure(figsize=(5, 4))\n",
        "tree.plot_tree(e_commerce_dt,\n",
        "               feature_names=x.columns,\n",
        "               class_names=labels_dt,\n",
        "               filled=True,\n",
        "               fontsize=10)\n",
        "plt.title(\"Pohon Keputusan Dilatih pada Data Training\")\n",
        "plt.show()"
      ],
      "metadata": {
        "colab": {
          "base_uri": "https://localhost:8080/",
          "height": 384
        },
        "id": "wdwWmAtdz-_T",
        "outputId": "30d097af-2a71-4763-b298-e38b3660ce46"
      },
      "execution_count": 306,
      "outputs": [
        {
          "output_type": "stream",
          "name": "stdout",
          "text": [
            "Visualisasi Pohon Keputusan (dilatih pada data training):\n"
          ]
        },
        {
          "output_type": "display_data",
          "data": {
            "text/plain": [
              "<Figure size 500x400 with 1 Axes>"
            ],
            "image/png": "[encoded data removed]"
          },
          "metadata": {}
        }
      ]
    },
    {
      "cell_type": "code",
      "source": [
        "#### Algorithma KNN ####"
      ],
      "metadata": {
        "id": "SrtBo1Oh7DQe"
      },
      "execution_count": 307,
      "outputs": []
    },
    {
      "cell_type": "code",
      "source": [
        "from sklearn.neighbors import KNeighborsClassifier\n",
        "from sklearn.preprocessing import StandardScaler"
      ],
      "metadata": {
        "id": "A_oBNEa08-kq"
      },
      "execution_count": 308,
      "outputs": []
    },
    {
      "cell_type": "code",
      "source": [
        "x_train_knn, x_test_knn, y_train_knn, y_test_knn = train_test_split(\n",
        "    x, y_knn, test_size=0.2, random_state=42\n",
        ")\n",
        "\n",
        "print(\"Data Training KNN (x_train_knn):\")\n",
        "print(x_train_knn)\n",
        "print(\"\\nTarget Training KNN (y_train_knn):\")\n",
        "print(y_train_knn)\n",
        "print(\"\\nData Testing KNN (x_test_knn):\")\n",
        "print(x_test_knn)\n",
        "print(\"\\nTarget Testing KNN (y_test_knn):\")\n",
        "print(y_test_knn)"
      ],
      "metadata": {
        "colab": {
          "base_uri": "https://localhost:8080/"
        },
        "id": "nAQN2OJP9SyX",
        "outputId": "9786421d-07c8-41ee-e3ad-4535b7ef2b16"
      },
      "execution_count": 309,
      "outputs": [
        {
          "output_type": "stream",
          "name": "stdout",
          "text": [
            "Data Training KNN (x_train_knn):\n",
            "   Umur  Pendapatan (juta)  Jumlah Pembelian\n",
            "3    50                 90                 4\n",
            "0    25                 50                10\n",
            "2    30                 60                 8\n",
            "\n",
            "Target Training KNN (y_train_knn):\n",
            "3    Tidak Loyal\n",
            "0          Loyal\n",
            "2    Tidak Loyal\n",
            "Name: Target Loyalitas KNN, dtype: object\n",
            "\n",
            "Data Testing KNN (x_test_knn):\n",
            "   Umur  Pendapatan (juta)  Jumlah Pembelian\n",
            "1    40                 80                 5\n",
            "\n",
            "Target Testing KNN (y_test_knn):\n",
            "1    Loyal\n",
            "Name: Target Loyalitas KNN, dtype: object\n"
          ]
        }
      ]
    },
    {
      "cell_type": "code",
      "source": [
        "scaler = StandardScaler()\n",
        "scaler.fit(x_train_knn)\n",
        "x_train_scaled = scaler.transform(x_train_knn)\n",
        "x_test_scaled = scaler.transform(x_test_knn)\n",
        "\n",
        "print(\"Data Training Setelah Scaling (x_train_scaled):\")\n",
        "print(x_train_scaled)\n",
        "print(\"\\nData Testing Setelah Scaling (x_test_scaled):\")\n",
        "print(x_test_scaled)"
      ],
      "metadata": {
        "colab": {
          "base_uri": "https://localhost:8080/"
        },
        "id": "esPX5jOl9U70",
        "outputId": "23f564e4-2c24-4ed7-f49e-bc6f3448ec8b"
      },
      "execution_count": 310,
      "outputs": [
        {
          "output_type": "stream",
          "name": "stdout",
          "text": [
            "Data Training Setelah Scaling (x_train_scaled):\n",
            "[[ 1.38873015  1.37281295 -1.33630621]\n",
            " [-0.9258201  -0.98058068  1.06904497]\n",
            " [-0.46291005 -0.39223227  0.26726124]]\n",
            "\n",
            "Data Testing Setelah Scaling (x_test_scaled):\n",
            "[[ 0.46291005  0.78446454 -0.93541435]]\n"
          ]
        }
      ]
    },
    {
      "cell_type": "code",
      "source": [
        "knn_model = KNeighborsClassifier(n_neighbors=1)\n",
        "knn_model.fit(x_train_scaled, y_train_knn)\n",
        "\n",
        "print(f\"Model KNN berhasil dilatih menggunakan data training yang di-scaling.\")\n",
        "print(\"Urutan kelas internal model KNN:\", knn_model.classes_)"
      ],
      "metadata": {
        "colab": {
          "base_uri": "https://localhost:8080/"
        },
        "id": "QctpX4ef9cvF",
        "outputId": "5bf19d74-a935-4488-cd89-caa4f52073ed"
      },
      "execution_count": 311,
      "outputs": [
        {
          "output_type": "stream",
          "name": "stdout",
          "text": [
            "Model KNN berhasil dilatih menggunakan data training yang di-scaling.\n",
            "Urutan kelas internal model KNN: ['Loyal' 'Tidak Loyal']\n"
          ]
        }
      ]
    },
    {
      "cell_type": "code",
      "source": [
        "y_pred_knn = knn_model.predict(x_test_scaled)\n",
        "print(f\"Hasil Prediksi KNN pada data testing:\", y_pred_knn)\n",
        "print(\"Target Sebenarnya pada data testing:\", y_test_knn.values)"
      ],
      "metadata": {
        "colab": {
          "base_uri": "https://localhost:8080/"
        },
        "id": "-5PAyyg593sE",
        "outputId": "2299fb8b-f400-46c4-98d3-55d084bf359f"
      },
      "execution_count": 312,
      "outputs": [
        {
          "output_type": "stream",
          "name": "stdout",
          "text": [
            "Hasil Prediksi KNN pada data testing: ['Tidak Loyal']\n",
            "Target Sebenarnya pada data testing: ['Loyal']\n"
          ]
        }
      ]
    },
    {
      "cell_type": "code",
      "source": [
        "accuracy_knn = accuracy_score(y_test_knn, y_pred_knn)\n",
        "print(\"Akurasi KNN:\", accuracy_knn)"
      ],
      "metadata": {
        "id": "9kA8Ad8I-Ee8",
        "colab": {
          "base_uri": "https://localhost:8080/"
        },
        "outputId": "56a96f27-f973-4ac2-8c2b-2c48c9d7d9d9"
      },
      "execution_count": 313,
      "outputs": [
        {
          "output_type": "stream",
          "name": "stdout",
          "text": [
            "Akurasi KNN: 0.0\n"
          ]
        }
      ]
    },
    {
      "cell_type": "code",
      "source": [
        "labels_knn = knn_model.classes_\n",
        "conf_matrix_knn = confusion_matrix(y_test_knn, y_pred_knn, labels=labels_knn)\n",
        "print(\"\\nConfusion Matrix KNN (Data Testing):\")\n",
        "print(conf_matrix_knn)"
      ],
      "metadata": {
        "colab": {
          "base_uri": "https://localhost:8080/"
        },
        "id": "P2OCUYdmiqAJ",
        "outputId": "9b9be27d-b3f5-40c2-f972-ad7b313edf12"
      },
      "execution_count": 314,
      "outputs": [
        {
          "output_type": "stream",
          "name": "stdout",
          "text": [
            "\n",
            "Confusion Matrix KNN (Data Testing):\n",
            "[[0 1]\n",
            " [0 0]]\n"
          ]
        }
      ]
    },
    {
      "cell_type": "code",
      "source": [
        "plt.figure(figsize=(5, 4))\n",
        "sns.heatmap(conf_matrix_knn, annot=True, fmt='d', cmap='Greens',\n",
        "            xticklabels=labels_knn, yticklabels=labels_knn)\n",
        "plt.xlabel('Prediksi KNN')\n",
        "plt.ylabel('Aktual')\n",
        "plt.title('Confusion Matrix KNN, Data (Testing)')\n",
        "plt.show()"
      ],
      "metadata": {
        "colab": {
          "base_uri": "https://localhost:8080/",
          "height": 410
        },
        "id": "lZVt-3oKittT",
        "outputId": "99d8fdf0-e1e1-4018-ceee-fb110e570e9d"
      },
      "execution_count": 336,
      "outputs": [
        {
          "output_type": "display_data",
          "data": {
            "text/plain": [
              "<Figure size 500x400 with 2 Axes>"
            ],
            "image/png": "[encoded data removed]"
          },
          "metadata": {}
        }
      ]
    },
    {
      "cell_type": "code",
      "source": [
        "### KESIMPULAN ANALISIS ###"
      ],
      "metadata": {
        "id": "yULryGuLnTjg"
      },
      "execution_count": 334,
      "outputs": []
    },
    {
      "cell_type": "code",
      "source": [
        "print(\"=\"*50)\n",
        "print(\"Kesimpulan Analisis Decision Tree vs KNN\")\n",
        "print(\"=\"*50)\n",
        "\n",
        "actual_dt = y_test.values[0]\n",
        "predicted_dt = y_pred_dt[0]\n",
        "actual_knn = y_test_knn.values[0]\n",
        "predicted_knn = y_pred_knn[0]\n",
        "\n",
        "print(\"\\n--- Hasil pada Data Testing (Sampel Index 1) ---\")\n",
        "print(f\"Decision Tree (DT):\")\n",
        "print(f\"  - Target Aktual (DT): '{actual_dt}'\")\n",
        "print(f\"  - Prediksi DT       : '{predicted_dt}'\")\n",
        "print(f\"  - Hasil Klasifikasi : `{actual_dt == predicted_dt}`\")\n",
        "print(f\"\\nKNN:\")\n",
        "print(f\"  - Target Aktual (KNN): '{actual_knn}'\")\n",
        "print(f\"  - Prediksi KNN       : '{predicted_knn}'\")\n",
        "print(f\"  - Hasil Klasifikasi  : `{actual_knn == predicted_knn}`\")\n",
        "\n",
        "print(\"\\n--- Akurasi Model ---\")\n",
        "print(f\"Akurasi Decision Tree: {accuracy_dt}\")\n",
        "print(f\"Akurasi KNN          : {accuracy_knn}\")\n",
        "\n",
        "print(\"\\n--- Visualisasi Confusion Matrix ---\")\n",
        "fig, axes = plt.subplots(1, 2, figsize=(12, 5))\n",
        "sns.heatmap(conf_matrix_dt, annot=True, fmt='d', cmap='Blues',\n",
        "            xticklabels=labels_dt, yticklabels=labels_dt, ax=axes[0])\n",
        "axes[0].set_xlabel('Prediksi Decision Tree')\n",
        "axes[0].set_ylabel('Aktual')\n",
        "axes[0].set_title('Confusion Matrix DT (Testing)')\n",
        "\n",
        "sns.heatmap(conf_matrix_knn, annot=True, fmt='d', cmap='Greens',\n",
        "            xticklabels=labels_knn, yticklabels=labels_knn, ax=axes[1])\n",
        "axes[1].set_xlabel('Prediksi KNN')\n",
        "axes[1].set_ylabel('Aktual')\n",
        "axes[1].set_title('Confusion Matrix KNN (Testing)')\n",
        "\n",
        "plt.tight_layout()\n",
        "plt.show()"
      ],
      "metadata": {
        "colab": {
          "base_uri": "https://localhost:8080/",
          "height": 854
        },
        "id": "Rj3L4R7anPYO",
        "outputId": "50c5e670-8593-47f9-c6a8-133fa629d5a1"
      },
      "execution_count": 335,
      "outputs": [
        {
          "output_type": "stream",
          "name": "stdout",
          "text": [
            "==================================================\n",
            "Kesimpulan Analisis Decision Tree vs KNN\n",
            "==================================================\n",
            "\n",
            "--- Hasil pada Data Testing (Sampel Index 1) ---\n",
            "Decision Tree (DT):\n",
            "  - Target Aktual (DT): 'Tidak Loyal'\n",
            "  - Prediksi DT       : 'Tidak Loyal'\n",
            "  - Hasil Klasifikasi : `True`\n",
            "\n",
            "KNN:\n",
            "  - Target Aktual (KNN): 'Loyal'\n",
            "  - Prediksi KNN       : 'Tidak Loyal'\n",
            "  - Hasil Klasifikasi  : `False`\n",
            "\n",
            "--- Akurasi Model ---\n",
            "Akurasi Decision Tree: 1.0\n",
            "Akurasi KNN          : 0.0\n",
            "\n",
            "--- Visualisasi Confusion Matrix ---\n"
          ]
        },
        {
          "output_type": "display_data",
          "data": {
            "text/plain": [
              "<Figure size 1200x500 with 4 Axes>"
            ],
            "image/png": "[encoded data removed]"
          },
          "metadata": {}
        }
      ]
    },
    {
      "cell_type": "code",
      "source": [],
      "metadata": {
        "id": "V2g1cPL2oqEX"
      },
      "execution_count": null,
      "outputs": []
    }
  ]
}